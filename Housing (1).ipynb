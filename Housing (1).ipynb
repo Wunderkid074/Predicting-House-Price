{
 "cells": [
  {
   "cell_type": "markdown",
   "id": "sound-basin",
   "metadata": {},
   "source": [
    "# Loading the data"
   ]
  },
  {
   "cell_type": "code",
   "execution_count": 1,
   "id": "completed-design",
   "metadata": {},
   "outputs": [],
   "source": [
    "import pandas as pd\n",
    "housing_data = pd.read_csv(\"c:\\\\Users\\\\adity\\\\Downloads\\\\housing.csv\")"
   ]
  },
  {
   "cell_type": "code",
   "execution_count": 2,
   "id": "unsigned-gender",
   "metadata": {},
   "outputs": [],
   "source": [
    "housing_data=housing_data.drop(\"ocean_proximity\",axis=1)"
   ]
  },
  {
   "cell_type": "markdown",
   "id": "southeast-fantasy",
   "metadata": {},
   "source": [
    "# Getting information about the data "
   ]
  },
  {
   "cell_type": "code",
   "execution_count": 3,
   "id": "loving-engine",
   "metadata": {},
   "outputs": [
    {
     "name": "stdout",
     "output_type": "stream",
     "text": [
      "<class 'pandas.core.frame.DataFrame'>\n",
      "RangeIndex: 20640 entries, 0 to 20639\n",
      "Data columns (total 9 columns):\n",
      " #   Column              Non-Null Count  Dtype  \n",
      "---  ------              --------------  -----  \n",
      " 0   longitude           20640 non-null  float64\n",
      " 1   latitude            20640 non-null  float64\n",
      " 2   housing_median_age  20640 non-null  float64\n",
      " 3   total_rooms         20640 non-null  float64\n",
      " 4   total_bedrooms      20433 non-null  float64\n",
      " 5   population          20640 non-null  float64\n",
      " 6   households          20640 non-null  float64\n",
      " 7   median_income       20640 non-null  float64\n",
      " 8   median_house_value  20640 non-null  float64\n",
      "dtypes: float64(9)\n",
      "memory usage: 1.4 MB\n"
     ]
    }
   ],
   "source": [
    "housing_data.info()"
   ]
  },
  {
   "cell_type": "code",
   "execution_count": 4,
   "id": "powered-truth",
   "metadata": {},
   "outputs": [
    {
     "data": {
      "text/html": [
       "<div>\n",
       "<style scoped>\n",
       "    .dataframe tbody tr th:only-of-type {\n",
       "        vertical-align: middle;\n",
       "    }\n",
       "\n",
       "    .dataframe tbody tr th {\n",
       "        vertical-align: top;\n",
       "    }\n",
       "\n",
       "    .dataframe thead th {\n",
       "        text-align: right;\n",
       "    }\n",
       "</style>\n",
       "<table border=\"1\" class=\"dataframe\">\n",
       "  <thead>\n",
       "    <tr style=\"text-align: right;\">\n",
       "      <th></th>\n",
       "      <th>longitude</th>\n",
       "      <th>latitude</th>\n",
       "      <th>housing_median_age</th>\n",
       "      <th>total_rooms</th>\n",
       "      <th>total_bedrooms</th>\n",
       "      <th>population</th>\n",
       "      <th>households</th>\n",
       "      <th>median_income</th>\n",
       "      <th>median_house_value</th>\n",
       "    </tr>\n",
       "  </thead>\n",
       "  <tbody>\n",
       "    <tr>\n",
       "      <th>count</th>\n",
       "      <td>20640.000000</td>\n",
       "      <td>20640.000000</td>\n",
       "      <td>20640.000000</td>\n",
       "      <td>20640.000000</td>\n",
       "      <td>20433.000000</td>\n",
       "      <td>20640.000000</td>\n",
       "      <td>20640.000000</td>\n",
       "      <td>20640.000000</td>\n",
       "      <td>20640.000000</td>\n",
       "    </tr>\n",
       "    <tr>\n",
       "      <th>mean</th>\n",
       "      <td>-119.569704</td>\n",
       "      <td>35.631861</td>\n",
       "      <td>28.639486</td>\n",
       "      <td>2635.763081</td>\n",
       "      <td>537.870553</td>\n",
       "      <td>1425.476744</td>\n",
       "      <td>499.539680</td>\n",
       "      <td>3.870671</td>\n",
       "      <td>206855.816909</td>\n",
       "    </tr>\n",
       "    <tr>\n",
       "      <th>std</th>\n",
       "      <td>2.003532</td>\n",
       "      <td>2.135952</td>\n",
       "      <td>12.585558</td>\n",
       "      <td>2181.615252</td>\n",
       "      <td>421.385070</td>\n",
       "      <td>1132.462122</td>\n",
       "      <td>382.329753</td>\n",
       "      <td>1.899822</td>\n",
       "      <td>115395.615874</td>\n",
       "    </tr>\n",
       "    <tr>\n",
       "      <th>min</th>\n",
       "      <td>-124.350000</td>\n",
       "      <td>32.540000</td>\n",
       "      <td>1.000000</td>\n",
       "      <td>2.000000</td>\n",
       "      <td>1.000000</td>\n",
       "      <td>3.000000</td>\n",
       "      <td>1.000000</td>\n",
       "      <td>0.499900</td>\n",
       "      <td>14999.000000</td>\n",
       "    </tr>\n",
       "    <tr>\n",
       "      <th>25%</th>\n",
       "      <td>-121.800000</td>\n",
       "      <td>33.930000</td>\n",
       "      <td>18.000000</td>\n",
       "      <td>1447.750000</td>\n",
       "      <td>296.000000</td>\n",
       "      <td>787.000000</td>\n",
       "      <td>280.000000</td>\n",
       "      <td>2.563400</td>\n",
       "      <td>119600.000000</td>\n",
       "    </tr>\n",
       "    <tr>\n",
       "      <th>50%</th>\n",
       "      <td>-118.490000</td>\n",
       "      <td>34.260000</td>\n",
       "      <td>29.000000</td>\n",
       "      <td>2127.000000</td>\n",
       "      <td>435.000000</td>\n",
       "      <td>1166.000000</td>\n",
       "      <td>409.000000</td>\n",
       "      <td>3.534800</td>\n",
       "      <td>179700.000000</td>\n",
       "    </tr>\n",
       "    <tr>\n",
       "      <th>75%</th>\n",
       "      <td>-118.010000</td>\n",
       "      <td>37.710000</td>\n",
       "      <td>37.000000</td>\n",
       "      <td>3148.000000</td>\n",
       "      <td>647.000000</td>\n",
       "      <td>1725.000000</td>\n",
       "      <td>605.000000</td>\n",
       "      <td>4.743250</td>\n",
       "      <td>264725.000000</td>\n",
       "    </tr>\n",
       "    <tr>\n",
       "      <th>max</th>\n",
       "      <td>-114.310000</td>\n",
       "      <td>41.950000</td>\n",
       "      <td>52.000000</td>\n",
       "      <td>39320.000000</td>\n",
       "      <td>6445.000000</td>\n",
       "      <td>35682.000000</td>\n",
       "      <td>6082.000000</td>\n",
       "      <td>15.000100</td>\n",
       "      <td>500001.000000</td>\n",
       "    </tr>\n",
       "  </tbody>\n",
       "</table>\n",
       "</div>"
      ],
      "text/plain": [
       "          longitude      latitude  housing_median_age   total_rooms  \\\n",
       "count  20640.000000  20640.000000        20640.000000  20640.000000   \n",
       "mean    -119.569704     35.631861           28.639486   2635.763081   \n",
       "std        2.003532      2.135952           12.585558   2181.615252   \n",
       "min     -124.350000     32.540000            1.000000      2.000000   \n",
       "25%     -121.800000     33.930000           18.000000   1447.750000   \n",
       "50%     -118.490000     34.260000           29.000000   2127.000000   \n",
       "75%     -118.010000     37.710000           37.000000   3148.000000   \n",
       "max     -114.310000     41.950000           52.000000  39320.000000   \n",
       "\n",
       "       total_bedrooms    population    households  median_income  \\\n",
       "count    20433.000000  20640.000000  20640.000000   20640.000000   \n",
       "mean       537.870553   1425.476744    499.539680       3.870671   \n",
       "std        421.385070   1132.462122    382.329753       1.899822   \n",
       "min          1.000000      3.000000      1.000000       0.499900   \n",
       "25%        296.000000    787.000000    280.000000       2.563400   \n",
       "50%        435.000000   1166.000000    409.000000       3.534800   \n",
       "75%        647.000000   1725.000000    605.000000       4.743250   \n",
       "max       6445.000000  35682.000000   6082.000000      15.000100   \n",
       "\n",
       "       median_house_value  \n",
       "count        20640.000000  \n",
       "mean        206855.816909  \n",
       "std         115395.615874  \n",
       "min          14999.000000  \n",
       "25%         119600.000000  \n",
       "50%         179700.000000  \n",
       "75%         264725.000000  \n",
       "max         500001.000000  "
      ]
     },
     "execution_count": 4,
     "metadata": {},
     "output_type": "execute_result"
    }
   ],
   "source": [
    "housing_data.describe()"
   ]
  },
  {
   "cell_type": "markdown",
   "id": "visible-darwin",
   "metadata": {},
   "source": [
    "# Splitting test set from training set"
   ]
  },
  {
   "cell_type": "code",
   "execution_count": 5,
   "id": "chubby-creature",
   "metadata": {},
   "outputs": [],
   "source": [
    "import numpy as np\n",
    "def split_train_test (housing , ratio):\n",
    "    np.random.seed(42)       #To generate the same indices on every run\n",
    "    shuffled_indices=np.random.permutation(len(housing))\n",
    "    test_indices = shuffled_indices[:int(len(housing)*ratio)]\n",
    "    train_indices = shuffled_indices[int(len(housing)*ratio):]\n",
    "    return housing.iloc[train_indices],housing.iloc[test_indices]     \n",
    "    "
   ]
  },
  {
   "cell_type": "code",
   "execution_count": 6,
   "id": "vocal-adoption",
   "metadata": {},
   "outputs": [],
   "source": [
    "training_set,test_set = split_train_test (housing_data,0.2)"
   ]
  },
  {
   "cell_type": "markdown",
   "id": "sealed-serve",
   "metadata": {},
   "source": [
    "# Seprating labels from data\n"
   ]
  },
  {
   "cell_type": "code",
   "execution_count": 7,
   "id": "behavioral-citizen",
   "metadata": {},
   "outputs": [],
   "source": [
    "train_label = training_set[\"median_house_value\"].copy()\n",
    "train_feature = training_set.drop(\"median_house_value\",axis=1)\n",
    "test_label = test_set[\"median_house_value\"].copy()\n",
    "test_feature = test_set.drop(\"median_house_value\",axis=1)"
   ]
  },
  {
   "cell_type": "markdown",
   "id": "humanitarian-punishment",
   "metadata": {},
   "source": [
    "# Replacing the missing value of total_bedroom features by its median"
   ]
  },
  {
   "cell_type": "code",
   "execution_count": 8,
   "id": "supported-breast",
   "metadata": {},
   "outputs": [],
   "source": [
    "median = train_feature[\"total_bedrooms\"].median()\n",
    "train_feature[\"total_bedrooms\"].fillna(median,inplace=True)\n",
    "m = test_feature[\"total_bedrooms\"].median()\n",
    "test_feature[\"total_bedrooms\"].fillna(median,inplace=True)\n"
   ]
  },
  {
   "cell_type": "markdown",
   "id": "later-citizen",
   "metadata": {},
   "source": [
    "# Scaling the data"
   ]
  },
  {
   "cell_type": "code",
   "execution_count": 9,
   "id": "nasty-darwin",
   "metadata": {},
   "outputs": [],
   "source": [
    "from sklearn.preprocessing import MinMaxScaler\n",
    "scaler = MinMaxScaler()\n",
    "train_feature= scaler.fit_transform(train_feature)\n",
    "test_feature = scaler.fit_transform(test_feature)"
   ]
  },
  {
   "cell_type": "code",
   "execution_count": 10,
   "id": "overhead-printing",
   "metadata": {},
   "outputs": [],
   "source": [
    "import tensorflow as tf\n",
    "from tensorflow import keras"
   ]
  },
  {
   "cell_type": "code",
   "execution_count": 11,
   "id": "dynamic-somerset",
   "metadata": {},
   "outputs": [],
   "source": [
    "model = tf.keras.Sequential([keras.layers.Dense(9,activation='relu'),\n",
    "                              keras.layers.Dense(1024,activation='relu'),\n",
    "                              keras.layers.Dense(1)])"
   ]
  },
  {
   "cell_type": "code",
   "execution_count": 12,
   "id": "underlying-poultry",
   "metadata": {},
   "outputs": [
    {
     "name": "stdout",
     "output_type": "stream",
     "text": [
      "Epoch 1/50\n",
      "516/516 [==============================] - 1s 2ms/step - loss: 55823779891.4971\n",
      "Epoch 2/50\n",
      "516/516 [==============================] - 1s 1ms/step - loss: 47953078893.9265\n",
      "Epoch 3/50\n",
      "516/516 [==============================] - 1s 2ms/step - loss: 25486886531.7137\n",
      "Epoch 4/50\n",
      "516/516 [==============================] - 1s 1ms/step - loss: 12606651898.0580\n",
      "Epoch 5/50\n",
      "516/516 [==============================] - 1s 1ms/step - loss: 11936040789.6634\n",
      "Epoch 6/50\n",
      "516/516 [==============================] - 1s 1ms/step - loss: 11684440466.0735\n",
      "Epoch 7/50\n",
      "516/516 [==============================] - 1s 1ms/step - loss: 11245634211.4043A: 0s - loss: 1065\n",
      "Epoch 8/50\n",
      "516/516 [==============================] - 1s 1ms/step - loss: 11139584882.3830\n",
      "Epoch 9/50\n",
      "516/516 [==============================] - 1s 2ms/step - loss: 10890041349.9420A: 0s - loss: 1089900418\n",
      "Epoch 10/50\n",
      "516/516 [==============================] - 1s 2ms/step - loss: 10728867889.5164\n",
      "Epoch 11/50\n",
      "516/516 [==============================] - 1s 2ms/step - loss: 10138072818.6306\n",
      "Epoch 12/50\n",
      "516/516 [==============================] - 1s 1ms/step - loss: 9853609490.8162\n",
      "Epoch 13/50\n",
      "516/516 [==============================] - 1s 1ms/step - loss: 9679854905.9342\n",
      "Epoch 14/50\n",
      "516/516 [==============================] - 1s 2ms/step - loss: 9058804860.7814\n",
      "Epoch 15/50\n",
      "516/516 [==============================] - 1s 1ms/step - loss: 8920402227.9923\n",
      "Epoch 16/50\n",
      "516/516 [==============================] - 1s 1ms/step - loss: 8343223068.2244\n",
      "Epoch 17/50\n",
      "516/516 [==============================] - 1s 1ms/step - loss: 7822314464.3095\n",
      "Epoch 18/50\n",
      "516/516 [==============================] - 1s 1ms/step - loss: 7676724083.3733\n",
      "Epoch 19/50\n",
      "516/516 [==============================] - 1s 1ms/step - loss: 7172540284.2863\n",
      "Epoch 20/50\n",
      "516/516 [==============================] - 1s 2ms/step - loss: 6847049695.3191\n",
      "Epoch 21/50\n",
      "516/516 [==============================] - 1s 2ms/step - loss: 6563016305.8878\n",
      "Epoch 22/50\n",
      "516/516 [==============================] - 1s 1ms/step - loss: 6212400831.1335\n",
      "Epoch 23/50\n",
      "516/516 [==============================] - 1s 1ms/step - loss: 6096532107.6364\n",
      "Epoch 24/50\n",
      "516/516 [==============================] - 1s 1ms/step - loss: 5833463558.4371\n",
      "Epoch 25/50\n",
      "516/516 [==============================] - 1s 1ms/step - loss: 5949558467.5899\n",
      "Epoch 26/50\n",
      "516/516 [==============================] - 1s 1ms/step - loss: 5841738152.8511\n",
      "Epoch 27/50\n",
      "516/516 [==============================] - 1s 1ms/step - loss: 5865717898.6460\n",
      "Epoch 28/50\n",
      "516/516 [==============================] - 1s 1ms/step - loss: 5768628922.1818: 0s\n",
      "Epoch 29/50\n",
      "516/516 [==============================] - 1s 1ms/step - loss: 5777033458.6306\n",
      "Epoch 30/50\n",
      "516/516 [==============================] - 1s 2ms/step - loss: 5800648522.2747\n",
      "Epoch 31/50\n",
      "516/516 [==============================] - 1s 1ms/step - loss: 5695882897.0832\n",
      "Epoch 32/50\n",
      "516/516 [==============================] - 1s 1ms/step - loss: 5573891272.0464\n",
      "Epoch 33/50\n",
      "516/516 [==============================] - 1s 1ms/step - loss: 5624444127.8143\n",
      "Epoch 34/50\n",
      "516/516 [==============================] - 1s 2ms/step - loss: 5588027752.4797\n",
      "Epoch 35/50\n",
      "516/516 [==============================] - 1s 1ms/step - loss: 5768134068.7350\n",
      "Epoch 36/50\n",
      "516/516 [==============================] - 1s 1ms/step - loss: 5726479855.1644\n",
      "Epoch 37/50\n",
      "516/516 [==============================] - 1s 1ms/step - loss: 5598329881.7485\n",
      "Epoch 38/50\n",
      "516/516 [==============================] - 1s 2ms/step - loss: 5652677025.9188\n",
      "Epoch 39/50\n",
      "516/516 [==============================] - 1s 1ms/step - loss: 5597291553.1760\n",
      "Epoch 40/50\n",
      "516/516 [==============================] - 1s 1ms/step - loss: 5611591442.3211\n",
      "Epoch 41/50\n",
      "516/516 [==============================] - 1s 2ms/step - loss: 5464884821.1683\n",
      "Epoch 42/50\n",
      "516/516 [==============================] - 1s 2ms/step - loss: 5358861187.2186\n",
      "Epoch 43/50\n",
      "516/516 [==============================] - 1s 2ms/step - loss: 5530550116.5184\n",
      "Epoch 44/50\n",
      "516/516 [==============================] - 1s 1ms/step - loss: 5484653917.5861\n",
      "Epoch 45/50\n",
      "516/516 [==============================] - 1s 1ms/step - loss: 5656923339.0174\n",
      "Epoch 46/50\n",
      "516/516 [==============================] - 1s 2ms/step - loss: 5376002495.6286\n",
      "Epoch 47/50\n",
      "516/516 [==============================] - 1s 2ms/step - loss: 5526698319.7215\n",
      "Epoch 48/50\n",
      "516/516 [==============================] - 1s 1ms/step - loss: 5731787591.7988\n",
      "Epoch 49/50\n",
      "516/516 [==============================] - 1s 2ms/step - loss: 5540393264.0309\n",
      "Epoch 50/50\n",
      "516/516 [==============================] - 1s 2ms/step - loss: 5249678981.6944\n"
     ]
    },
    {
     "data": {
      "text/plain": [
       "<tensorflow.python.keras.callbacks.History at 0x1c43f596760>"
      ]
     },
     "execution_count": 12,
     "metadata": {},
     "output_type": "execute_result"
    }
   ],
   "source": [
    "model.compile(optimizer='adam',loss='mse')\n",
    "model.fit(train_feature,train_label,epochs=50)"
   ]
  },
  {
   "cell_type": "code",
   "execution_count": 15,
   "id": "agreed-charlotte",
   "metadata": {},
   "outputs": [
    {
     "name": "stdout",
     "output_type": "stream",
     "text": [
      "129/129 [==============================] - 0s 1ms/step - loss: 5777264640.0000\n"
     ]
    },
    {
     "data": {
      "text/plain": [
       "5777264640.0"
      ]
     },
     "execution_count": 15,
     "metadata": {},
     "output_type": "execute_result"
    }
   ],
   "source": [
    "model.predict(test_feature)\n",
    "model.evaluate(test_feature,test_label)"
   ]
  }
 ],
 "metadata": {
  "kernelspec": {
   "display_name": "Python 3",
   "language": "python",
   "name": "python3"
  },
  "language_info": {
   "codemirror_mode": {
    "name": "ipython",
    "version": 3
   },
   "file_extension": ".py",
   "mimetype": "text/x-python",
   "name": "python",
   "nbconvert_exporter": "python",
   "pygments_lexer": "ipython3",
   "version": "3.8.7"
  }
 },
 "nbformat": 4,
 "nbformat_minor": 5
}
